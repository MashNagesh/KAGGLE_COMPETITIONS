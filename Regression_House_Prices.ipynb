{
 "cells": [
  {
   "cell_type": "code",
   "execution_count": 15,
   "metadata": {
    "collapsed": false
   },
   "outputs": [
    {
     "name": "stdout",
     "output_type": "stream",
     "text": [
      "{'MasVnrArea': 8, 'GarageCond': 81, 'Alley': 1369, 'MiscFeature': 1406, 'FireplaceQu': 690, 'BsmtCond': 37, 'BsmtExposure': 38, 'Fence': 1179, 'GarageType': 81, 'GarageYrBlt': 81, 'MasVnrType': 8, 'Electrical': 1, 'BsmtFinType2': 38, 'BsmtFinType1': 37, 'LotFrontage': 259, 'PoolQC': 1453, 'GarageFinish': 81, 'GarageQual': 81, 'BsmtQual': 37}\n"
     ]
    }
   ],
   "source": [
    "import pandas as pd\n",
    "\n",
    "#Loading the training and the test data\n",
    "Train_df = pd.read_csv('C:/Users/Mash/Desktop/Kaggle/house_prices/train.csv')\n",
    "Test_df = pd.read_csv('C:/Users/Mash/Desktop/Kaggle/house_prices/test.csv')\n",
    "\n",
    "#print (Train_df.columns)\n",
    "#print (Train_df.describe())\n",
    "\n",
    "# No of columns in the df\n",
    "#print (Train_df.info())\n",
    "\n",
    "# checking the columns with NaN values\n",
    "NaN_columns = {}\n",
    "for i in Train_df.columns:\n",
    "    if pd.isnull(Train_df[i]).sum() >0:\n",
    "        NaN_columns[i] = pd.isnull(Train_df[i]).sum()\n",
    "print (NaN_columns)\n",
    "\n"
   ]
  }
 ],
 "metadata": {
  "anaconda-cloud": {},
  "kernelspec": {
   "display_name": "Python [conda root]",
   "language": "python",
   "name": "conda-root-py"
  },
  "language_info": {
   "codemirror_mode": {
    "name": "ipython",
    "version": 3
   },
   "file_extension": ".py",
   "mimetype": "text/x-python",
   "name": "python",
   "nbconvert_exporter": "python",
   "pygments_lexer": "ipython3",
   "version": "3.5.2"
  }
 },
 "nbformat": 4,
 "nbformat_minor": 1
}
