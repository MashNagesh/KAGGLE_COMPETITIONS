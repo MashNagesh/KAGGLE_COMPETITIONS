{
 "cells": [
  {
   "cell_type": "markdown",
   "metadata": {},
   "source": [
    "#### An attempt to solve the bulldozers dataset in Kaggle using Random Forests"
   ]
  },
  {
   "cell_type": "code",
   "execution_count": 1,
   "metadata": {
    "collapsed": false
   },
   "outputs": [],
   "source": [
    "#Importing requisite libraries\n",
    "import pandas as pd,numpy as np,re,datetime,os,math,csv\n",
    "from IPython.display import display\n",
    "from pandas.api.types import  is_string_dtype,is_numeric_dtype\n",
    "from sklearn.ensemble import RandomForestRegressor \n",
    "from sklearn import metrics\n",
    "import matplotlib.pyplot as plt\n",
    "% matplotlib inline\n",
    "from sklearn.ensemble import forest"
   ]
  },
  {
   "cell_type": "markdown",
   "metadata": {
    "collapsed": true
   },
   "source": [
    "##### PARAMETERS EXPLANATION\n",
    "*Setting Low_memory to prevent memory crunch in guessing the datatype\n",
    "\n",
    "*Parse date converts string date to a date format from (11/16/2006 0:00) to (2006-11-16)"
   ]
  },
  {
   "cell_type": "code",
   "execution_count": null,
   "metadata": {
    "collapsed": false
   },
   "outputs": [],
   "source": [
    "# Reading the data\n",
    "df_raw = pd.read_csv('data/train.csv',low_memory=False ,parse_dates=['saledate'])"
   ]
  },
  {
   "cell_type": "code",
   "execution_count": null,
   "metadata": {
    "collapsed": false
   },
   "outputs": [],
   "source": [
    "#Checking the size of the dataset and the number of columns\n",
    "print (df_raw.shape)\n",
    "display(df_raw.describe(include='all').transpose())"
   ]
  },
  {
   "cell_type": "code",
   "execution_count": null,
   "metadata": {
    "collapsed": true
   },
   "outputs": [],
   "source": [
    "#EVALUATION METRIC - RMSLE - root mean squared Log error\n",
    "#Taking the log of the dependent variable\n",
    "df_raw.SalePrice  = np.log(df_raw.SalePrice)                "
   ]
  },
  {
   "cell_type": "code",
   "execution_count": null,
   "metadata": {
    "collapsed": true
   },
   "outputs": [],
   "source": [
    "#Converting the date field to various fields <saledate >\n",
    "def add_datepart(df, fldname, drop=True):\n",
    "    fld = df[fldname]\n",
    "    if not np.issubdtype(fld.dtype, np.datetime64):\n",
    "        df[fldname] = fld = pd.to_datetime(fld, infer_datetime_format=True)\n",
    "    targ_pre = re.sub('[Dd]ate$', '', fldname)\n",
    "    for n in ('Year', 'Month', 'Week', 'Day', 'Dayofweek', 'Dayofyear',\n",
    "            'Is_month_end', 'Is_month_start', 'Is_quarter_end', 'Is_quarter_start', 'Is_year_end', 'Is_year_start'):  \n",
    "        df[targ_pre+n] = getattr(fld.dt,n.lower())\n",
    "    df[targ_pre+'Elapsed'] = fld.astype(np.int64) // 10**9\n",
    "    if drop: df.drop(fldname, axis=1, inplace=True)\n"
   ]
  },
  {
   "cell_type": "code",
   "execution_count": null,
   "metadata": {
    "collapsed": false
   },
   "outputs": [],
   "source": [
    "add_datepart(df_raw,'saledate')"
   ]
  },
  {
   "cell_type": "code",
   "execution_count": null,
   "metadata": {
    "collapsed": false
   },
   "outputs": [],
   "source": [
    "#Converting categorical variables to numbers\n",
    "def conv_to_cats(df):\n",
    "    for n,c in df.items():\n",
    "        if is_string_dtype(c): df[n] = c.astype('category').cat.as_ordered()"
   ]
  },
  {
   "cell_type": "code",
   "execution_count": null,
   "metadata": {
    "collapsed": false
   },
   "outputs": [],
   "source": [
    "print (df_raw.head(5)['UsageBand'])"
   ]
  },
  {
   "cell_type": "code",
   "execution_count": null,
   "metadata": {
    "collapsed": false
   },
   "outputs": [],
   "source": [
    "conv_to_cats(df_raw)\n",
    "print (df_raw.head(5)['UsageBand'])"
   ]
  },
  {
   "cell_type": "code",
   "execution_count": null,
   "metadata": {
    "collapsed": false,
    "scrolled": true
   },
   "outputs": [],
   "source": [
    "#setting the order for the categories\n",
    "display(df_raw.UsageBand.cat.categories)\n",
    "\n"
   ]
  },
  {
   "cell_type": "code",
   "execution_count": null,
   "metadata": {
    "collapsed": true
   },
   "outputs": [],
   "source": [
    "df_raw.UsageBand.cat.set_categories(['High','Medium','Low'],ordered = True,inplace = True)\n",
    "df_raw.UsageBand = df_raw.UsageBand.cat.codes"
   ]
  },
  {
   "cell_type": "code",
   "execution_count": null,
   "metadata": {
    "collapsed": false
   },
   "outputs": [],
   "source": [
    "print (df_raw.head(5)['UsageBand'])"
   ]
  },
  {
   "cell_type": "code",
   "execution_count": null,
   "metadata": {
    "collapsed": false
   },
   "outputs": [],
   "source": [
    "#Percentage of values which are null\n",
    "display(df_raw.isnull().sum().sort_index()/len(df_raw))"
   ]
  },
  {
   "cell_type": "code",
   "execution_count": null,
   "metadata": {
    "collapsed": false
   },
   "outputs": [],
   "source": [
    "#Saving all the precproceesing work in a feather file for later access\n",
    "\n",
    "os.makedirs('tmp', exist_ok=True)\n",
    "df_raw.to_feather('tmp/bulldozers-raw')"
   ]
  },
  {
   "cell_type": "markdown",
   "metadata": {},
   "source": [
    "#### START FROM HERE - PREPROCESSED"
   ]
  },
  {
   "cell_type": "code",
   "execution_count": 2,
   "metadata": {
    "collapsed": false
   },
   "outputs": [],
   "source": [
    "Working_df = pd.read_feather('tmp/bulldozers-raw')"
   ]
  },
  {
   "cell_type": "code",
   "execution_count": 3,
   "metadata": {
    "collapsed": false
   },
   "outputs": [],
   "source": [
    "#Splitting into numeric and non numeric data types\n",
    "quantitative = [f for f in Working_df.columns if is_numeric_dtype(Working_df[f])]\n",
    "qualitative = Working_df.columns.difference(quantitative)\n",
    "#Do not replace and Id column and the dependent variable\n",
    "quantitative.remove('SalesID')\n",
    "quantitative.remove('SalePrice')\n"
   ]
  },
  {
   "cell_type": "markdown",
   "metadata": {},
   "source": [
    "##### REPLACE MISSING VALUES OF NUMERIC DTYPE"
   ]
  },
  {
   "cell_type": "code",
   "execution_count": 4,
   "metadata": {
    "collapsed": true
   },
   "outputs": [],
   "source": [
    "#Replace missing values\n",
    "def fix_missing(df,col):\n",
    "    if is_numeric_dtype(df[col]):\n",
    "        df[col+'_na']= pd.isnull(df[col])\n",
    "        df[col]= df[col].fillna(df[col].median())"
   ]
  },
  {
   "cell_type": "code",
   "execution_count": 5,
   "metadata": {
    "collapsed": false
   },
   "outputs": [],
   "source": [
    "for i in quantitative:\n",
    "    fix_missing(Working_df,i)"
   ]
  },
  {
   "cell_type": "markdown",
   "metadata": {},
   "source": [
    "##### REPLACE CATEGORICAL VALUES WITH THEIR CODES"
   ]
  },
  {
   "cell_type": "code",
   "execution_count": 6,
   "metadata": {
    "collapsed": false
   },
   "outputs": [],
   "source": [
    "#Replace Categorical variable with their codes\n",
    "def numericalize(df,col):\n",
    "    if not is_numeric_dtype(df[col]):\n",
    "        df[col+'_num']= df[col].cat.codes+1\n"
   ]
  },
  {
   "cell_type": "code",
   "execution_count": 7,
   "metadata": {
    "collapsed": false
   },
   "outputs": [],
   "source": [
    "for i in qualitative:\n",
    "    numericalize(Working_df,i)\n",
    "    #dropping the categorical column after replacing\n",
    "    Working_df.drop(i,axis =1,inplace=True)"
   ]
  },
  {
   "cell_type": "markdown",
   "metadata": {},
   "source": [
    "##### GETTING THE Y VALUE"
   ]
  },
  {
   "cell_type": "code",
   "execution_count": null,
   "metadata": {
    "collapsed": true
   },
   "outputs": [],
   "source": [
    "y = Working_df.SalePrice"
   ]
  },
  {
   "cell_type": "code",
   "execution_count": null,
   "metadata": {
    "collapsed": false,
    "scrolled": true
   },
   "outputs": [],
   "source": [
    "#calling the Random forest regressor\n",
    "m = RandomForestRegressor(n_jobs=-1)\n",
    "m.fit(Working_df, y)\n",
    "m.score(Working_df, y)\n"
   ]
  },
  {
   "cell_type": "markdown",
   "metadata": {},
   "source": [
    "#### Getting a sample of the total data for a better runtime"
   ]
  },
  {
   "cell_type": "code",
   "execution_count": 8,
   "metadata": {
    "collapsed": false
   },
   "outputs": [],
   "source": [
    "def get_Sample(df,n): return df.sample(n)\n",
    "Working_df1 = get_Sample(Working_df,30000)\n",
    "y1 = Working_df1['SalePrice']\n",
    "Working_df1.drop('SalePrice',axis=1,inplace=True)\n"
   ]
  },
  {
   "cell_type": "code",
   "execution_count": 13,
   "metadata": {
    "collapsed": true
   },
   "outputs": [],
   "source": [
    "#extracting subset for processing\n",
    "def split_vals(a,n): return a[:n].copy(), a[n:].copy()"
   ]
  },
  {
   "cell_type": "code",
   "execution_count": null,
   "metadata": {
    "collapsed": false
   },
   "outputs": [],
   "source": [
    "#Using splitvals for subsetting\n",
    "\n",
    "n_valid = 12000  # same as Kaggle's test set size\n",
    "\n",
    "n_trn = len(Working_df1)-n_valid\n",
    "raw_train, raw_valid = split_vals(Working_df1, n_trn)\n",
    "X_train, X_valid = split_vals(Working_df1, n_trn)\n",
    "y_train, y_valid = split_vals(y1, n_trn)\n",
    "\n",
    "X_train.shape, y_train.shape, X_valid.shape"
   ]
  },
  {
   "cell_type": "markdown",
   "metadata": {},
   "source": [
    "#### RMSE"
   ]
  },
  {
   "cell_type": "code",
   "execution_count": 9,
   "metadata": {
    "collapsed": true
   },
   "outputs": [],
   "source": [
    "def rmse(x,y): return math.sqrt(((x-y)**2).mean())\n"
   ]
  },
  {
   "cell_type": "code",
   "execution_count": 10,
   "metadata": {
    "collapsed": true
   },
   "outputs": [],
   "source": [
    "def print_score(m):\n",
    "    res = [rmse(m.predict(X_train), y_train), rmse(m.predict(X_valid), y_valid),\n",
    "                m.score(X_train, y_train), m.score(X_valid, y_valid)]\n",
    "    if hasattr(m, 'oob_score_'): res.append(m.oob_score_)\n",
    "    print(res)"
   ]
  },
  {
   "cell_type": "code",
   "execution_count": null,
   "metadata": {
    "collapsed": false
   },
   "outputs": [],
   "source": [
    "#calling the Random forest regressor\n",
    "m = RandomForestRegressor(n_jobs=-1)\n",
    "m.fit(X_train,y_train)\n",
    "print_score(m)"
   ]
  },
  {
   "cell_type": "markdown",
   "metadata": {},
   "source": [
    "### Trying Subsampling"
   ]
  },
  {
   "cell_type": "code",
   "execution_count": 11,
   "metadata": {
    "collapsed": true
   },
   "outputs": [],
   "source": [
    "def set_rf_samples(n):\n",
    "    \"\"\" Changes Scikit learn's random forests to give each tree a random sample of\n",
    "    n random rows.\n",
    "    \"\"\"\n",
    "    forest._generate_sample_indices = (lambda rs, n_samples:\n",
    "        forest.check_random_state(rs).randint(0, n_samples, n))"
   ]
  },
  {
   "cell_type": "code",
   "execution_count": 15,
   "metadata": {
    "collapsed": false
   },
   "outputs": [],
   "source": [
    "validation = 12000\n",
    "n_trn = len(Working_df)-12000\n",
    "X_train, X_valid = split_vals(Working_df, n_trn)\n",
    "y_train, y_valid = split_vals(y, n_trn)"
   ]
  },
  {
   "cell_type": "code",
   "execution_count": 16,
   "metadata": {
    "collapsed": false
   },
   "outputs": [],
   "source": [
    "set_rf_samples(20000)"
   ]
  },
  {
   "cell_type": "code",
   "execution_count": 17,
   "metadata": {
    "collapsed": false
   },
   "outputs": [
    {
     "name": "stdout",
     "output_type": "stream",
     "text": [
      "[0.008434402269670743, 0.01232167503009248, 0.9998513231172482, 0.9997288638186683]\n"
     ]
    }
   ],
   "source": [
    "#Base model with training and validation set\n",
    "m = RandomForestRegressor(n_jobs=-1,n_estimators=40,max_features=0.5)\n",
    "m.fit(X_train,y_train)\n",
    "print_score(m)"
   ]
  },
  {
   "cell_type": "code",
   "execution_count": 23,
   "metadata": {
    "collapsed": false
   },
   "outputs": [
    {
     "data": {
      "text/plain": [
       "(array([8.98719682, 8.94897561, 9.15904708, 9.04782144, 9.04782144,\n",
       "        9.01796848, 8.95544812, 8.9226583 , 8.95544812, 8.94897561,\n",
       "        8.96187901, 8.9226583 , 8.9226583 , 8.9226583 , 8.9226583 ,\n",
       "        9.43348392, 8.95544812, 8.95544812, 8.95544812, 8.9226583 ,\n",
       "        9.04782144, 8.98719682, 8.98719682, 8.95544812, 8.95544812,\n",
       "        8.98719682, 8.95544812, 8.96187901, 8.98719682, 8.95544812,\n",
       "        8.61250337, 8.95544812, 8.95544812, 8.95544812, 8.95544812,\n",
       "        9.10497986, 8.95544812, 8.95544812, 8.9226583 , 8.96187901]),\n",
       " 8.974533733102252,\n",
       " 8.955448122347393)"
      ]
     },
     "execution_count": 23,
     "metadata": {},
     "output_type": "execute_result"
    }
   ],
   "source": [
    "b=np.stack([i.predict(X_valid) for i in m.estimators_])\n",
    "#Default is 10 estimators and each estimator produces an array of n values(based on the sampling) (X_train)\n",
    "#Average of the 10 estimators for each of them would be the output from the random forest model\n",
    "#For the last record the random forest output would be\n",
    "b[:,11999],np.mean(b[:,11999]),list(y_valid)[11999]\n"
   ]
  },
  {
   "cell_type": "code",
   "execution_count": 21,
   "metadata": {
    "collapsed": false
   },
   "outputs": [
    {
     "data": {
      "image/png": "[encoded data removed]",
      "text/plain": [
       "<matplotlib.figure.Figure at 0x21822de3198>"
      ]
     },
     "metadata": {},
     "output_type": "display_data"
    }
   ],
   "source": [
    "plt.plot([metrics.r2_score(y_valid, np.mean(b[:i+1], axis=0)) for i in range(10)]);"
   ]
  },
  {
   "cell_type": "code",
   "execution_count": null,
   "metadata": {
    "collapsed": false
   },
   "outputs": [],
   "source": [
    "#Finding the features which are better and retaining only them.\n",
    "#Plotting the R^2 and the importances on a graph can show us the corelation and the values  of importances above which it matters\n",
    "importances = pd.DataFrame({'feature':X_train.columns,'importance':np.round(m.feature_importances_,3)})\n",
    "keeping = (importances[importances['importance'] > 0.005].sort_values('importance',ascending=False))\n",
    "trunc_df = Working_df[keeping.feature]\n",
    "trunc_df.shape"
   ]
  },
  {
   "cell_type": "code",
   "execution_count": null,
   "metadata": {
    "collapsed": false
   },
   "outputs": [],
   "source": [
    "n_valid = 12000  # same as Kaggle's test set size\n",
    "n_trn = len(trunc_df)-n_valid\n",
    "raw_train, raw_valid = split_vals(trunc_df, n_trn)\n",
    "X_train, X_valid = split_vals(trunc_df, n_trn)\n",
    "y_train, y_valid = split_vals(y, n_trn)\n",
    "\n",
    "X_train.shape, y_train.shape, X_valid.shape"
   ]
  },
  {
   "cell_type": "code",
   "execution_count": null,
   "metadata": {
    "collapsed": false
   },
   "outputs": [],
   "source": [
    "##model with truncated features and max_features parameter\n",
    "m = RandomForestRegressor(n_estimators =40,n_jobs=-1,max_features = 0.5)\n",
    "m.fit(X_train,y_train)\n",
    "print_score(m)"
   ]
  }
 ],
 "metadata": {
  "anaconda-cloud": {},
  "kernelspec": {
   "display_name": "Python [conda root]",
   "language": "python",
   "name": "conda-root-py"
  },
  "language_info": {
   "codemirror_mode": {
    "name": "ipython",
    "version": 3
   },
   "file_extension": ".py",
   "mimetype": "text/x-python",
   "name": "python",
   "nbconvert_exporter": "python",
   "pygments_lexer": "ipython3",
   "version": "3.5.2"
  }
 },
 "nbformat": 4,
 "nbformat_minor": 1
}
