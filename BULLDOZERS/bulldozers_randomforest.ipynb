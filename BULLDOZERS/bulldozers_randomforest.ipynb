{
 "cells": [
  {
   "cell_type": "markdown",
   "metadata": {},
   "source": [
    "#### An attempt to solve the bulldozers dataset in Kaggle using Random Forests"
   ]
  },
  {
   "cell_type": "code",
   "execution_count": 26,
   "metadata": {
    "collapsed": false
   },
   "outputs": [],
   "source": [
    "#Importing requisite libraries\n",
    "import pandas as pd,numpy as np,re,datetime,os,math,csv\n",
    "from IPython.display import display\n",
    "from pandas.api.types import  is_string_dtype,is_numeric_dtype\n",
    "from sklearn.ensemble import RandomForestRegressor \n",
    "import matplotlib.pyplot as plt"
   ]
  },
  {
   "cell_type": "markdown",
   "metadata": {
    "collapsed": true
   },
   "source": [
    "##### PARAMETERS EXPLANATION\n",
    "*Setting Low_memory to prevent memory crunch in guessing the datatype\n",
    "\n",
    "*Parse date converts string date to a date format from (11/16/2006 0:00) to (2006-11-16)"
   ]
  },
  {
   "cell_type": "code",
   "execution_count": null,
   "metadata": {
    "collapsed": false
   },
   "outputs": [],
   "source": [
    "# Reading the data\n",
    "df_raw = pd.read_csv('data/train.csv',low_memory=False ,parse_dates=['saledate'])"
   ]
  },
  {
   "cell_type": "code",
   "execution_count": null,
   "metadata": {
    "collapsed": false
   },
   "outputs": [],
   "source": [
    "#Checking the size of the dataset and the number of columns\n",
    "print (df_raw.shape)\n",
    "display(df_raw.describe(include='all').transpose())"
   ]
  },
  {
   "cell_type": "code",
   "execution_count": null,
   "metadata": {
    "collapsed": true
   },
   "outputs": [],
   "source": [
    "#EVALUATION METRIC - RMSLE - root mean squared Log error\n",
    "#Taking the log of the dependent variable\n",
    "df_raw.SalePrice  = np.log(df_raw.SalePrice)                "
   ]
  },
  {
   "cell_type": "code",
   "execution_count": 16,
   "metadata": {
    "collapsed": true
   },
   "outputs": [],
   "source": [
    "#Converting the date field to various fields <saledate >\n",
    "def add_datepart(df, fldname, drop=True):\n",
    "    fld = df[fldname]\n",
    "    if not np.issubdtype(fld.dtype, np.datetime64):\n",
    "        df[fldname] = fld = pd.to_datetime(fld, infer_datetime_format=True)\n",
    "    targ_pre = re.sub('[Dd]ate$', '', fldname)\n",
    "    for n in ('Year', 'Month', 'Week', 'Day', 'Dayofweek', 'Dayofyear',\n",
    "            'Is_month_end', 'Is_month_start', 'Is_quarter_end', 'Is_quarter_start', 'Is_year_end', 'Is_year_start'):  \n",
    "        df[targ_pre+n] = getattr(fld.dt,n.lower())\n",
    "    df[targ_pre+'Elapsed'] = fld.astype(np.int64) // 10**9\n",
    "    if drop: df.drop(fldname, axis=1, inplace=True)\n"
   ]
  },
  {
   "cell_type": "code",
   "execution_count": null,
   "metadata": {
    "collapsed": false
   },
   "outputs": [],
   "source": [
    "add_datepart(df_raw,'saledate')"
   ]
  },
  {
   "cell_type": "code",
   "execution_count": 19,
   "metadata": {
    "collapsed": false
   },
   "outputs": [],
   "source": [
    "#Converting categorical variables to numbers\n",
    "def conv_to_cats(df):\n",
    "    for n,c in df.items():\n",
    "        if is_string_dtype(c): df[n] = c.astype('category').cat.as_ordered()"
   ]
  },
  {
   "cell_type": "code",
   "execution_count": null,
   "metadata": {
    "collapsed": false
   },
   "outputs": [],
   "source": [
    "conv_to_cats(df_raw)"
   ]
  },
  {
   "cell_type": "code",
   "execution_count": null,
   "metadata": {
    "collapsed": false,
    "scrolled": true
   },
   "outputs": [],
   "source": [
    "#setting the order for the categories\n",
    "display(df_raw.UsageBand.cat.categories)\n",
    "df_raw.UsageBand.cat.set_categories(['High','Medium','Low'],ordered = True,inplace = True)\n",
    "df_raw.UsageBand = df_raw.UsageBand.cat.codes"
   ]
  },
  {
   "cell_type": "code",
   "execution_count": null,
   "metadata": {
    "collapsed": false
   },
   "outputs": [],
   "source": [
    "#Percentage of values which are null\n",
    "display(df_raw.isnull().sum().sort_index()/len(df_raw))"
   ]
  },
  {
   "cell_type": "code",
   "execution_count": null,
   "metadata": {
    "collapsed": false
   },
   "outputs": [],
   "source": [
    "#Saving all the precproceesing work in a feather file for later access\n",
    "\n",
    "os.makedirs('tmp', exist_ok=True)\n",
    "df_raw.to_feather('tmp/bulldozers-raw')"
   ]
  },
  {
   "cell_type": "markdown",
   "metadata": {},
   "source": [
    "#### START FROM HERE - PREPROCESSED"
   ]
  },
  {
   "cell_type": "code",
   "execution_count": 3,
   "metadata": {
    "collapsed": false
   },
   "outputs": [],
   "source": [
    "Working_df = pd.read_feather('tmp/bulldozers-raw')"
   ]
  },
  {
   "cell_type": "code",
   "execution_count": 4,
   "metadata": {
    "collapsed": false
   },
   "outputs": [],
   "source": [
    "#Splitting into numeric and non numeric data types\n",
    "quantitative = [f for f in Working_df.columns if is_numeric_dtype(Working_df[f])]\n",
    "qualitative = Working_df.columns.difference(quantitative)\n",
    "#Do not replace and Id column and the dependent variable\n",
    "quantitative.remove('SalesID')\n",
    "quantitative.remove('SalePrice')\n"
   ]
  },
  {
   "cell_type": "markdown",
   "metadata": {},
   "source": [
    "##### REPLACE MISSING VALUES OF NUMERIC DTYPE"
   ]
  },
  {
   "cell_type": "code",
   "execution_count": 5,
   "metadata": {
    "collapsed": true
   },
   "outputs": [],
   "source": [
    "#Replace missing values\n",
    "def fix_missing(df,col):\n",
    "    if is_numeric_dtype(df[col]):\n",
    "        df[col+'_na']= pd.isnull(df[col])\n",
    "        df[col]= df[col].fillna(df[col].median())"
   ]
  },
  {
   "cell_type": "code",
   "execution_count": 6,
   "metadata": {
    "collapsed": false
   },
   "outputs": [],
   "source": [
    "for i in quantitative:\n",
    "    fix_missing(Working_df,i)"
   ]
  },
  {
   "cell_type": "markdown",
   "metadata": {},
   "source": [
    "##### REPLACE CATEGORICAL VALUES WITH THEIR CODES"
   ]
  },
  {
   "cell_type": "code",
   "execution_count": 7,
   "metadata": {
    "collapsed": false
   },
   "outputs": [],
   "source": [
    "#Replace Categorical variable with their codes\n",
    "def numericalize(df,col):\n",
    "    if not is_numeric_dtype(df[col]):\n",
    "        df[col+'_num']= df[col].cat.codes+1"
   ]
  },
  {
   "cell_type": "code",
   "execution_count": 8,
   "metadata": {
    "collapsed": false
   },
   "outputs": [],
   "source": [
    "for i in qualitative:\n",
    "    numericalize(Working_df,i)\n",
    "    #dropping the categorical column after replacing\n",
    "    Working_df.drop(i,axis =1,inplace=True)"
   ]
  },
  {
   "cell_type": "markdown",
   "metadata": {},
   "source": [
    "##### GETTING THE Y VALUE"
   ]
  },
  {
   "cell_type": "code",
   "execution_count": 9,
   "metadata": {
    "collapsed": false
   },
   "outputs": [],
   "source": [
    "y = Working_df['SalePrice']\n",
    "Working_df.drop('SalePrice',axis=1,inplace=True)\n"
   ]
  },
  {
   "cell_type": "code",
   "execution_count": 10,
   "metadata": {
    "collapsed": false,
    "scrolled": true
   },
   "outputs": [
    {
     "data": {
      "text/plain": [
       "0.9830621148142004"
      ]
     },
     "execution_count": 10,
     "metadata": {},
     "output_type": "execute_result"
    }
   ],
   "source": [
    "#calling the Random forest regressor\n",
    "m = RandomForestRegressor(n_jobs=-1)\n",
    "m.fit(Working_df, y)\n",
    "m.score(Working_df, y)\n"
   ]
  },
  {
   "cell_type": "code",
   "execution_count": 11,
   "metadata": {
    "collapsed": false
   },
   "outputs": [
    {
     "data": {
      "text/plain": [
       "((389125, 84), (389125,), (12000, 84))"
      ]
     },
     "execution_count": 11,
     "metadata": {},
     "output_type": "execute_result"
    }
   ],
   "source": [
    "#extracting subset for processing\n",
    "def split_vals(a,n): return a[:n].copy(), a[n:].copy()\n",
    "\n",
    "n_valid = 12000  # same as Kaggle's test set size\n",
    "n_trn = len(Working_df)-n_valid\n",
    "raw_train, raw_valid = split_vals(Working_df, n_trn)\n",
    "X_train, X_valid = split_vals(Working_df, n_trn)\n",
    "y_train, y_valid = split_vals(y, n_trn)\n",
    "\n",
    "X_train.shape, y_train.shape, X_valid.shape"
   ]
  },
  {
   "cell_type": "markdown",
   "metadata": {},
   "source": [
    "#### RMSE"
   ]
  },
  {
   "cell_type": "code",
   "execution_count": 12,
   "metadata": {
    "collapsed": true
   },
   "outputs": [],
   "source": [
    "def rmse(x,y): return math.sqrt(((x-y)**2).mean())\n"
   ]
  },
  {
   "cell_type": "code",
   "execution_count": 13,
   "metadata": {
    "collapsed": true
   },
   "outputs": [],
   "source": [
    "def print_score(m):\n",
    "    res = [rmse(m.predict(X_train), y_train), rmse(m.predict(X_valid), y_valid),\n",
    "                m.score(X_train, y_train), m.score(X_valid, y_valid)]\n",
    "    if hasattr(m, 'oob_score_'): res.append(m.oob_score_)\n",
    "    print(res)"
   ]
  },
  {
   "cell_type": "code",
   "execution_count": 14,
   "metadata": {
    "collapsed": false
   },
   "outputs": [
    {
     "name": "stdout",
     "output_type": "stream",
     "text": [
      "[0.09057441008648796, 0.2476381719628013, 0.9828546697677856, 0.8904825929404404]\n"
     ]
    }
   ],
   "source": [
    "#Base model with training and validation set\n",
    "m = RandomForestRegressor(n_jobs=-1)\n",
    "m.fit(X_train,y_train)\n",
    "print_score(m)"
   ]
  },
  {
   "cell_type": "code",
   "execution_count": 34,
   "metadata": {
    "collapsed": false
   },
   "outputs": [
    {
     "name": "stdout",
     "output_type": "stream",
     "text": [
      "                   feature  importance\n",
      "46      Coupler_System_num       0.198\n",
      "5                 YearMade       0.175\n",
      "61         ProductSize_num       0.108\n",
      "81  fiProductClassDesc_num       0.102\n",
      "2                  ModelID       0.094\n",
      "20             saleElapsed       0.078\n",
      "49           Enclosure_num       0.039\n",
      "78         fiModelDesc_num       0.029\n",
      "82     fiSecondaryDesc_num       0.027\n",
      "0                  SalesID       0.026\n",
      "77         fiBaseModel_num       0.018\n",
      "79   fiModelDescriptor_num       0.017\n",
      "1                MachineID       0.013\n"
     ]
    }
   ],
   "source": [
    "#Finding the features which are better\n",
    "importances = pd.DataFrame({'feature':X_train.columns,'importance':np.round(m.feature_importances_,3)})\n",
    "print (importances[importances['importance'] > np.mean(m.feature_importances_)].sort_values('importance',ascending=False))\n"
   ]
  },
  {
   "cell_type": "code",
   "execution_count": 29,
   "metadata": {
    "collapsed": false
   },
   "outputs": [
    {
     "data": {
      "text/plain": [
       "Index(['importance'], dtype='object')"
      ]
     },
     "execution_count": 29,
     "metadata": {},
     "output_type": "execute_result"
    }
   ],
   "source": [
    "importances.columns"
   ]
  },
  {
   "cell_type": "code",
   "execution_count": 14,
   "metadata": {
    "collapsed": true
   },
   "outputs": [],
   "source": [
    "#Loading the test set\n",
    "Test_df = pd.read_csv('data/Test.csv',low_memory=False ,parse_dates=['saledate'])\n",
    "#Processing of Test Data\n",
    "add_datepart(Test_df,'saledate')\n",
    "conv_to_cats(Test_df)\n",
    "#Ordinal type handling\n",
    "Test_df.UsageBand.cat.set_categories(['High','Medium','Low'],ordered = True,inplace = True)\n",
    "Test_df.UsageBand = Test_df.UsageBand.cat.codes\n",
    "\n",
    "for i in quantitative:\n",
    "    fix_missing(Test_df,i)\n",
    "for i in qualitative:\n",
    "    numericalize(Test_df,i)\n",
    "    #dropping the categorical column after replacing\n",
    "    Test_df.drop(i,axis =1,inplace=True)"
   ]
  },
  {
   "cell_type": "code",
   "execution_count": 34,
   "metadata": {
    "collapsed": false
   },
   "outputs": [],
   "source": [
    "#Scoring  the model to test set\n",
    "y_pred =np.exp(m.predict(Test_df))"
   ]
  },
  {
   "cell_type": "code",
   "execution_count": 35,
   "metadata": {
    "collapsed": false
   },
   "outputs": [],
   "source": [
    "#Writing the output\n",
    "predictions_file = open(\"data/output.csv\", \"w\",newline='')\n",
    "predictions_file_object = csv.writer(predictions_file)\n",
    "predictions_file_object.writerow([\"SalesID\", \"SalePrice\"])\n",
    "for i in range(len(Test_df)):\n",
    "    predictions_file_object.writerow([Test_df['SalesID'][i],y_pred[i]])\n",
    "predictions_file.close()"
   ]
  }
 ],
 "metadata": {
  "anaconda-cloud": {},
  "kernelspec": {
   "display_name": "Python [conda root]",
   "language": "python",
   "name": "conda-root-py"
  },
  "language_info": {
   "codemirror_mode": {
    "name": "ipython",
    "version": 3
   },
   "file_extension": ".py",
   "mimetype": "text/x-python",
   "name": "python",
   "nbconvert_exporter": "python",
   "pygments_lexer": "ipython3",
   "version": "3.5.2"
  }
 },
 "nbformat": 4,
 "nbformat_minor": 1
}
