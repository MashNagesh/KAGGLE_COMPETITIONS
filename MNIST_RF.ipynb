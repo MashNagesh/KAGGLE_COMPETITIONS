{
 "cells": [
  {
   "cell_type": "code",
   "execution_count": 23,
   "metadata": {
    "collapsed": false
   },
   "outputs": [],
   "source": [
    "import pandas as pd\n",
    "import matplotlib.pyplot as plt,matplotlib.image as mpimg\n",
    "from sklearn.cross_validation import train_test_split\n",
    "from sklearn.ensemble import RandomForestClassifier\n",
    "%matplotlib inline\n",
    "\n"
   ]
  },
  {
   "cell_type": "code",
   "execution_count": 2,
   "metadata": {
    "collapsed": true
   },
   "outputs": [],
   "source": [
    "#Loading the train and test data\n",
    "train = pd.read_csv('train.csv')\n",
    "test = pd.read_csv('test.csv')"
   ]
  },
  {
   "cell_type": "code",
   "execution_count": 42,
   "metadata": {
    "collapsed": false
   },
   "outputs": [],
   "source": [
    "# splitting x and y values\n",
    "train.x = train.iloc[:,1:]\n",
    "train.labels = train.iloc[:,0]"
   ]
  },
  {
   "cell_type": "code",
   "execution_count": 4,
   "metadata": {
    "collapsed": false
   },
   "outputs": [
    {
     "data": {
      "text/plain": [
       "0    1\n",
       "1    0\n",
       "2    1\n",
       "3    4\n",
       "4    0\n",
       "Name: label, dtype: int64"
      ]
     },
     "execution_count": 4,
     "metadata": {},
     "output_type": "execute_result"
    }
   ],
   "source": [
    "train.labels.head()"
   ]
  },
  {
   "cell_type": "code",
   "execution_count": 43,
   "metadata": {
    "collapsed": true
   },
   "outputs": [],
   "source": [
    "# splitting into train and CV set\n",
    "X_train,X_CV,Y_train,Y_CV = train_test_split(train.x,train.labels,train_size =0.7,random_state =0)"
   ]
  },
  {
   "cell_type": "code",
   "execution_count": 6,
   "metadata": {
    "collapsed": false
   },
   "outputs": [
    {
     "name": "stdout",
     "output_type": "stream",
     "text": [
      "[  0   0   0   0   0   0   0   0   0   0   0   0   0   0   0   0   0   0\n",
      "   0   0   0   0   0   0   0   0   0   0   0   0   0   0   0   0   0   0\n",
      "   0   0   0   0   0   0   0   0   0   0   0   0   0   0   0   0   0   0\n",
      "   0   0   0   0   0   0   0   0   0   0   0   0   0   0   0   0   0   0\n",
      "   0   0   0   0   0   0   0   0   0   0   0   0   0   0   0   0   0   0\n",
      "   0   0   0   0   0   0   0   0   0   0   0   0   0   0   0   0   0   0\n",
      "   0   0   0   0   0   0   0   0   0   0   0   0   0   0   0   0   2  93\n",
      " 219 255 210 136  76  18   7   0   0   0   0   0   0   0   0   0   0   0\n",
      "   0   0   0   0   0   0   0   4 163 253 253 253 253 253 253 253 188  60\n",
      "   0   0   0   0   0   0   0   0   0   0   0   0   0   0   0   0   0 112\n",
      " 253 245 200 145 156  82  82 151 235 202  11   0   0   0   0   0   0   0\n",
      "   0   0   0   0   0   0   0   0 114 251 253 124   0   0   0   0   0   0\n",
      " 132 253  86   0   0   0   0   0   0   0   0   0   0   0   0   0   0  73\n",
      " 235 251  99  18   0   0   0   0   0   0  31 229 170   0   0   0   0   0\n",
      "   0   0   0   0   0   0   0   0  30 227 253 198   0   0   0   0   0   0\n",
      "   0   0   0 183 244  31   0   0   0   0   0   0   0   0   0   0   0  27\n",
      " 216 253 253  72   0   0   0   0   0   0   0   0   0 183 253  35   0   0\n",
      "   0   0   0   0   0   0   0   0   0  54 253 253 193   5   0   0   0   0\n",
      "   0   0   0   0   0 183 253  35   0   0   0   0   0   0   0   0   0   0\n",
      "   0 128 253 253 128   0   0   0   0   0   0   0   0   0   0 183 253  35\n",
      "   0   0   0   0   0   0   0   0   0   0   0 171 253 191   9   0   0   0\n",
      "   0   0   0   0   0   0   0 183 253  35   0   0   0   0   0   0   0   0\n",
      "   0   0  28 235 253 164   0   0   0   0   0   0   0   0   0   0  37 237\n",
      " 189   8   0   0   0   0   0   0   0   0   0   0 135 253 253 121   0   0\n",
      "   0   0   0   0   0   0   0   0 147 253 170   0   0   0   0   0   0   0\n",
      "   0   0   0   0 154 253 253  47   0   0   0   0   0   0   0   0   0   0\n",
      " 166 253  63   0   0   0   0   0   0   0   0   0   0   0 154 253 253  47\n",
      "   0   0   0   0   0   0   0   0   7 199 249 186   1   0   0   0   0   0\n",
      "   0   0   0   0   0   0  85 253 253  47   0   0   0   0   0   0   0  14\n",
      "  96 253 206  50   0   0   0   0   0   0   0   0   0   0   0   0  29 238\n",
      " 253 140   6   0   0   0   0   0  18 139 253 253 128   0   0   0   0   0\n",
      "   0   0   0   0   0   0   0   0   0 141 253 253  59   0   0   0   0  20\n",
      " 191 253 245  70  25   0   0   0   0   0   0   0   0   0   0   0   0   0\n",
      "   0  54 253 253 231  89  84  84 166 217 253 178  52   0   0   0   0   0\n",
      "   0   0   0   0   0   0   0   0   0   0   0   8  68 235 253 253 253 253\n",
      " 253 253 125   4   0   0   0   0   0   0   0   0   0   0   0   0   0   0\n",
      "   0   0   0   0   0 111 185 198 253 253 170  44   3   0   0   0   0   0\n",
      "   0   0   0   0   0   0   0   0   0   0   0   0   0   0   0   0   0   0\n",
      "   0   0   0   0   0   0   0   0   0   0   0   0   0   0   0   0   0   0\n",
      "   0   0   0   0   0   0   0   0   0   0   0   0   0   0   0   0   0   0\n",
      "   0   0   0   0   0   0   0   0   0   0   0   0   0   0   0   0   0   0\n",
      "   0   0   0   0   0   0   0   0   0   0   0   0   0   0   0   0   0   0\n",
      "   0   0   0   0   0   0   0   0   0   0   0   0   0   0   0   0   0   0\n",
      "   0   0   0   0   0   0   0   0   0   0]\n"
     ]
    },
    {
     "data": {
      "text/plain": [
       "<matplotlib.image.AxesImage at 0x19c63767be0>"
      ]
     },
     "execution_count": 6,
     "metadata": {},
     "output_type": "execute_result"
    },
    {
     "data": {
      "image/png": "[encoded data removed]",
      "text/plain": [
       "<matplotlib.figure.Figure at 0x19c5e886e10>"
      ]
     },
     "metadata": {},
     "output_type": "display_data"
    }
   ],
   "source": [
    "#trying to display the images from the pixels\n",
    "i=8\n",
    "img = X_train.iloc[i].as_matrix()\n",
    "print (img)\n",
    "img = img.reshape((28,28))\n",
    "plt.imshow(img,cmap='gray')"
   ]
  },
  {
   "cell_type": "code",
   "execution_count": 8,
   "metadata": {
    "collapsed": false
   },
   "outputs": [
    {
     "data": {
      "text/plain": [
       "0.112"
      ]
     },
     "execution_count": 8,
     "metadata": {},
     "output_type": "execute_result"
    }
   ],
   "source": [
    "#using SVM to train the data\n",
    "clf = svm.SVC()\n",
    "clf = clf.fit(X_train,Y_train)\n",
    "clf.score(X_CV,Y_CV)"
   ]
  },
  {
   "cell_type": "code",
   "execution_count": 44,
   "metadata": {
    "collapsed": false
   },
   "outputs": [
    {
     "name": "stderr",
     "output_type": "stream",
     "text": [
      "C:\\Users\\Mash\\Anaconda3\\lib\\site-packages\\ipykernel\\__main__.py:4: SettingWithCopyWarning: \n",
      "A value is trying to be set on a copy of a slice from a DataFrame.\n",
      "Try using .loc[row_indexer,col_indexer] = value instead\n",
      "\n",
      "See the caveats in the documentation: http://pandas.pydata.org/pandas-docs/stable/indexing.html#indexing-view-versus-copy\n",
      "C:\\Users\\Mash\\Anaconda3\\lib\\site-packages\\pandas\\core\\frame.py:2392: SettingWithCopyWarning: \n",
      "A value is trying to be set on a copy of a slice from a DataFrame\n",
      "\n",
      "See the caveats in the documentation: http://pandas.pydata.org/pandas-docs/stable/indexing.html#indexing-view-versus-copy\n",
      "  self.where(-key, value, inplace=True)\n",
      "C:\\Users\\Mash\\Anaconda3\\lib\\site-packages\\ipykernel\\__main__.py:5: SettingWithCopyWarning: \n",
      "A value is trying to be set on a copy of a slice from a DataFrame.\n",
      "Try using .loc[row_indexer,col_indexer] = value instead\n",
      "\n",
      "See the caveats in the documentation: http://pandas.pydata.org/pandas-docs/stable/indexing.html#indexing-view-versus-copy\n"
     ]
    },
    {
     "name": "stdout",
     "output_type": "stream",
     "text": [
      "[0 0 0 0 0 0 0 0 0 0 0 0 0 0 0 0 0 0 0 0 0 0 0 0 0 0 0 0 0 0 0 0 0 0 0 0 0\n",
      " 0 0 0 0 0 0 0 0 0 0 0 0 0 0 0 0 0 0 0 0 0 0 0 0 0 0 0 0 0 0 0 0 0 0 0 0 0\n",
      " 0 0 0 0 0 0 0 0 0 0 0 0 0 0 0 0 0 0 0 0 0 0 0 0 0 0 0 0 0 0 0 0 0 0 0 0 0\n",
      " 0 0 0 0 0 0 0 0 0 0 0 0 0 0 0 1 1 1 1 1 1 0 0 0 0 0 0 0 0 0 0 0 0 0 0 0 0\n",
      " 0 0 0 0 0 0 1 1 1 1 1 1 1 0 0 0 0 0 0 0 0 0 0 0 0 0 0 0 0 0 0 0 0 1 1 1 1\n",
      " 1 1 1 1 1 0 0 0 0 0 0 0 0 0 0 0 0 0 0 0 0 0 0 1 1 1 1 1 1 1 1 1 1 0 0 0 0\n",
      " 0 0 0 0 0 0 0 0 0 0 0 0 0 1 1 1 1 0 0 0 1 1 1 1 0 0 0 0 0 0 0 0 0 0 0 0 0\n",
      " 0 0 0 0 1 1 1 1 0 0 0 1 1 1 1 0 0 0 0 0 0 0 0 0 0 0 0 0 0 0 0 0 1 1 1 0 0\n",
      " 0 1 1 1 1 0 0 0 0 0 0 0 0 0 0 0 0 0 0 0 0 0 0 1 1 1 1 1 1 1 1 1 1 0 0 0 0\n",
      " 0 0 0 0 0 0 0 0 0 0 0 0 0 0 1 1 1 1 1 1 1 1 1 0 0 0 0 0 0 0 0 0 0 0 0 0 0\n",
      " 0 0 0 0 0 0 1 1 1 1 1 1 1 0 0 0 0 0 0 0 0 0 0 0 0 0 0 0 0 0 0 0 0 1 1 1 1\n",
      " 1 1 1 1 1 1 0 0 0 0 0 0 0 0 0 0 0 0 0 0 0 0 0 1 1 1 0 1 1 1 1 1 1 1 0 0 0\n",
      " 0 0 0 0 0 0 0 0 0 0 0 0 0 1 1 1 1 0 0 0 0 0 1 1 1 1 0 0 0 0 0 0 0 0 0 0 0\n",
      " 0 0 0 1 1 1 1 1 0 0 0 0 0 0 1 1 1 0 0 0 0 0 0 0 0 0 0 0 0 0 1 1 1 1 1 0 0\n",
      " 0 0 0 1 1 1 1 0 0 0 0 0 0 0 0 0 0 0 0 0 1 1 1 1 1 0 0 0 0 0 1 1 1 1 1 0 0\n",
      " 0 0 0 0 0 0 0 0 0 0 0 1 1 1 0 0 0 0 1 1 1 1 1 1 1 0 0 0 0 0 0 0 0 0 0 0 0\n",
      " 0 0 1 1 1 1 1 1 1 1 1 1 1 1 1 0 0 0 0 0 0 0 0 0 0 0 0 0 0 0 1 1 1 1 1 1 1\n",
      " 1 1 1 0 0 0 0 0 0 0 0 0 0 0 0 0 0 0 0 0 0 0 1 1 1 1 1 1 1 0 0 0 0 0 0 0 0\n",
      " 0 0 0 0 0 0 0 0 0 0 0 0 0 0 0 0 0 0 0 0 0 0 0 0 0 0 0 0 0 0 0 0 0 0 0 0 0\n",
      " 0 0 0 0 0 0 0 0 0 0 0 0 0 0 0 0 0 0 0 0 0 0 0 0 0 0 0 0 0 0 0 0 0 0 0 0 0\n",
      " 0 0 0 0 0 0 0 0 0 0 0 0 0 0 0 0 0 0 0 0 0 0 0 0 0 0 0 0 0 0 0 0 0 0 0 0 0\n",
      " 0 0 0 0 0 0 0]\n"
     ]
    },
    {
     "data": {
      "text/plain": [
       "<matplotlib.image.AxesImage at 0x19c1db3d320>"
      ]
     },
     "execution_count": 44,
     "metadata": {},
     "output_type": "execute_result"
    },
    {
     "data": {
      "image/png": "[encoded data removed]",
      "text/plain": [
       "<matplotlib.figure.Figure at 0x19c632b8278>"
      ]
     },
     "metadata": {},
     "output_type": "display_data"
    }
   ],
   "source": [
    "# changing the parameters slightly since the model accuracy is too low\n",
    "# any value >0 is 1 and everything else is 0\n",
    "\n",
    "X_train[X_train>0]=1\n",
    "X_CV[X_CV>0]=1\n",
    "#trying to display the images from the pixels\n",
    "i=8\n",
    "img = X_train.iloc[i].as_matrix()\n",
    "print (img)\n",
    "img = img.reshape((28,28))\n",
    "plt.imshow(img,cmap='binary')"
   ]
  },
  {
   "cell_type": "code",
   "execution_count": 45,
   "metadata": {
    "collapsed": false
   },
   "outputs": [
    {
     "name": "stdout",
     "output_type": "stream",
     "text": [
      "{'min_samples_leaf': 1, 'random_state': 50, 'n_estimators': 15, 'max_features': 'auto', 'bootstrap': True, 'criterion': 'entropy', 'max_depth': None, 'min_samples_split': 4, 'n_jobs': -1}\n"
     ]
    },
    {
     "data": {
      "text/plain": [
       "0.94960717403380679"
      ]
     },
     "execution_count": 45,
     "metadata": {},
     "output_type": "execute_result"
    }
   ],
   "source": [
    "#Fitting the modified images\n",
    "from sklearn.grid_search import GridSearchCV\n",
    "from sklearn.metrics import accuracy_score\n",
    "clf = RandomForestClassifier()\n",
    "param_grid = {\"max_depth\": [2,3,None],\n",
    "                  \"max_features\": [\"auto\",\"log2\",0.9],\n",
    "                  \"min_samples_split\": [2,4,6],\n",
    "                  \"min_samples_leaf\": [1,10,20],\n",
    "                  \"bootstrap\": [True, False],\n",
    "                  \"criterion\": [\"gini\", \"entropy\"],\n",
    "                  \"n_estimators\": [10,15],\n",
    "                  \"bootstrap\":[True],\n",
    "                  \"n_jobs\": [-1],\n",
    "                  \"random_state\":[50]}\n",
    "#sss = StratifiedShuffleSplit(labels,n_iter=100,random_state=42)\n",
    "GS = GridSearchCV(estimator = clf,param_grid=param_grid)\n",
    "GS = GS.fit(X_train,Y_train)\n",
    "#print \"------------------------------------TUNED RFC------------------------------\"\n",
    "print (GS.best_params_)\n",
    "rfcclf = GS.best_estimator_\n",
    "#Prediction using the best parameters\n",
    "labels_predict = rfcclf.predict(X_CV)\n",
    "accuracy_score(Y_CV,labels_predict)"
   ]
  },
  {
   "cell_type": "code",
   "execution_count": 46,
   "metadata": {
    "collapsed": false
   },
   "outputs": [],
   "source": [
    "#predicting  the test set\n",
    "test[test>0]=1\n",
    "Y_test =rfcclf.predict(test)"
   ]
  },
  {
   "cell_type": "code",
   "execution_count": 47,
   "metadata": {
    "collapsed": false
   },
   "outputs": [],
   "source": [
    "import csv\n",
    "predictions_file = open(\"outputRF.csv\", \"w\",newline='')\n",
    "predictions_file_object = csv.writer(predictions_file)\n",
    "predictions_file_object.writerow([\"ImageId\", \"Label\"])\n",
    "for i in range(len(Y_test)):\n",
    "    predictions_file_object.writerow([i+1,Y_test[i]])\n",
    "predictions_file.close()"
   ]
  },
  {
   "cell_type": "code",
   "execution_count": null,
   "metadata": {
    "collapsed": true
   },
   "outputs": [],
   "source": []
  }
 ],
 "metadata": {
  "anaconda-cloud": {},
  "kernelspec": {
   "display_name": "Python [conda root]",
   "language": "python",
   "name": "conda-root-py"
  },
  "language_info": {
   "codemirror_mode": {
    "name": "ipython",
    "version": 3
   },
   "file_extension": ".py",
   "mimetype": "text/x-python",
   "name": "python",
   "nbconvert_exporter": "python",
   "pygments_lexer": "ipython3",
   "version": "3.5.2"
  }
 },
 "nbformat": 4,
 "nbformat_minor": 1
}
